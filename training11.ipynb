{
 "cells": [
  {
   "cell_type": "code",
   "execution_count": 3,
   "id": "c3ff0ebe-3b00-4199-91e5-9ea21c294753",
   "metadata": {},
   "outputs": [],
   "source": [
    "import numpy as np"
   ]
  },
  {
   "cell_type": "code",
   "execution_count": 4,
   "id": "61da9f08-7d93-46d8-a253-0a7497effc50",
   "metadata": {},
   "outputs": [],
   "source": [
    "a=np.random.randint(20,60,15)"
   ]
  },
  {
   "cell_type": "code",
   "execution_count": 6,
   "id": "07c7c8cf-5216-4d35-84e2-95e554711feb",
   "metadata": {},
   "outputs": [
    {
     "data": {
      "text/plain": [
       "array([30, 34, 48, 26, 23, 31, 59, 52, 52, 29, 24, 50, 49, 34, 47])"
      ]
     },
     "execution_count": 6,
     "metadata": {},
     "output_type": "execute_result"
    }
   ],
   "source": [
    "a"
   ]
  },
  {
   "cell_type": "code",
   "execution_count": 8,
   "id": "9a2a8cf8-2ce5-429d-bb5e-74b4892ff0a9",
   "metadata": {},
   "outputs": [
    {
     "data": {
      "text/plain": [
       "array([24, 29, 52, 52, 59, 31, 23])"
      ]
     },
     "execution_count": 8,
     "metadata": {},
     "output_type": "execute_result"
    }
   ],
   "source": [
    "#negative index must be given for negative direction indexing\n",
    "a[-5:-12:-1]"
   ]
  },
  {
   "cell_type": "code",
   "execution_count": 5,
   "id": "443ac756-5923-44d4-a31e-501955be00dd",
   "metadata": {},
   "outputs": [],
   "source": [
    "np.random.seed(94)\n",
    "b=np.random.randint(45,78,(7,8))"
   ]
  },
  {
   "cell_type": "code",
   "execution_count": 24,
   "id": "c18ccbe0-515e-4ee8-925d-52852aa5dc81",
   "metadata": {},
   "outputs": [
    {
     "data": {
      "text/plain": [
       "array([[63, 45, 48, 67, 74, 64, 61, 53],\n",
       "       [61, 59, 55, 77, 69, 69, 48, 60],\n",
       "       [71, 56, 51, 58, 59, 47, 68, 77],\n",
       "       [46, 45, 52, 74, 65, 53, 60, 55],\n",
       "       [64, 72, 46, 69, 65, 75, 75, 51],\n",
       "       [75, 67, 53, 77, 60, 67, 67, 47],\n",
       "       [75, 54, 74, 69, 54, 64, 52, 61]])"
      ]
     },
     "execution_count": 24,
     "metadata": {},
     "output_type": "execute_result"
    }
   ],
   "source": [
    "b"
   ]
  },
  {
   "cell_type": "code",
   "execution_count": 26,
   "id": "7e09261f-e769-4b4e-87f0-ad2b6a2f7184",
   "metadata": {},
   "outputs": [
    {
     "data": {
      "text/plain": [
       "2"
      ]
     },
     "execution_count": 26,
     "metadata": {},
     "output_type": "execute_result"
    }
   ],
   "source": [
    "b.ndim"
   ]
  },
  {
   "cell_type": "code",
   "execution_count": 28,
   "id": "9411cf55-18d1-4dbf-9868-a8afa3c34e6b",
   "metadata": {},
   "outputs": [
    {
     "data": {
      "text/plain": [
       "array([74, 69, 59, 65, 65, 60, 54])"
      ]
     },
     "execution_count": 28,
     "metadata": {},
     "output_type": "execute_result"
    }
   ],
   "source": [
    "#to access any column we need to give :\n",
    "b[:,4]"
   ]
  },
  {
   "cell_type": "code",
   "execution_count": 30,
   "id": "243460f6-f057-4913-a2ac-2fc7c40fa18d",
   "metadata": {},
   "outputs": [
    {
     "data": {
      "text/plain": [
       "array([53, 60, 77, 55, 51, 47, 61])"
      ]
     },
     "execution_count": 30,
     "metadata": {},
     "output_type": "execute_result"
    }
   ],
   "source": [
    "b[:,7]#7th column"
   ]
  },
  {
   "cell_type": "code",
   "execution_count": 32,
   "id": "c6c80a2f-6aaf-4d55-bf3e-fd23aea947a2",
   "metadata": {},
   "outputs": [
    {
     "data": {
      "text/plain": [
       "77"
      ]
     },
     "execution_count": 32,
     "metadata": {},
     "output_type": "execute_result"
    }
   ],
   "source": [
    "b[1,3]#1st row 3rd column position"
   ]
  },
  {
   "cell_type": "code",
   "execution_count": 34,
   "id": "4f745fcd-428d-497b-b74d-3302f8f319a1",
   "metadata": {},
   "outputs": [
    {
     "data": {
      "text/plain": [
       "46"
      ]
     },
     "execution_count": 34,
     "metadata": {},
     "output_type": "execute_result"
    }
   ],
   "source": [
    "b[3,0]"
   ]
  },
  {
   "cell_type": "code",
   "execution_count": 36,
   "id": "190d17a5-0d0c-423d-b712-b8bda0c02a03",
   "metadata": {},
   "outputs": [
    {
     "data": {
      "text/plain": [
       "array([71, 56, 51, 58, 59, 47, 68, 77])"
      ]
     },
     "execution_count": 36,
     "metadata": {},
     "output_type": "execute_result"
    }
   ],
   "source": [
    "b[2] #2nd row"
   ]
  },
  {
   "cell_type": "code",
   "execution_count": 38,
   "id": "c221396c-66b0-47a1-8940-340454d5ae2b",
   "metadata": {},
   "outputs": [
    {
     "data": {
      "text/plain": [
       "67"
      ]
     },
     "execution_count": 38,
     "metadata": {},
     "output_type": "execute_result"
    }
   ],
   "source": [
    "b[5,6]"
   ]
  },
  {
   "cell_type": "code",
   "execution_count": 7,
   "id": "03579f8f-5e2b-4667-ae03-c5ce4ead5590",
   "metadata": {},
   "outputs": [
    {
     "data": {
      "text/plain": [
       "array([71, 56, 51, 58, 59, 47, 68, 77])"
      ]
     },
     "execution_count": 7,
     "metadata": {},
     "output_type": "execute_result"
    }
   ],
   "source": [
    "b[2]    "
   ]
  },
  {
   "cell_type": "code",
   "execution_count": 9,
   "id": "75f8f3e4-9436-4768-a78b-32b1dffc2586",
   "metadata": {},
   "outputs": [
    {
     "data": {
      "text/plain": [
       "array([56, 51, 58, 59, 47])"
      ]
     },
     "execution_count": 9,
     "metadata": {},
     "output_type": "execute_result"
    }
   ],
   "source": [
    "b[2,1:6]#left of comma is for rows and right of comma is for colums"
   ]
  },
  {
   "cell_type": "markdown",
   "id": "695b9cde-811a-49cf-aa8b-e5f68634b240",
   "metadata": {},
   "source": [
    "array[row-start : row-end : row-step]"
   ]
  },
  {
   "cell_type": "code",
   "execution_count": 11,
   "id": "7bd998fa-d6cb-4228-8a4b-0fa61f747245",
   "metadata": {},
   "outputs": [
    {
     "data": {
      "text/plain": [
       "array([[61, 59, 55, 77, 69, 69, 48, 60],\n",
       "       [71, 56, 51, 58, 59, 47, 68, 77],\n",
       "       [46, 45, 52, 74, 65, 53, 60, 55],\n",
       "       [64, 72, 46, 69, 65, 75, 75, 51],\n",
       "       [75, 67, 53, 77, 60, 67, 67, 47]])"
      ]
     },
     "execution_count": 11,
     "metadata": {},
     "output_type": "execute_result"
    }
   ],
   "source": [
    "b[1:6]"
   ]
  },
  {
   "cell_type": "code",
   "execution_count": 13,
   "id": "6c7482a5-6ac5-4086-a20b-2a761c56a4e1",
   "metadata": {},
   "outputs": [
    {
     "data": {
      "text/plain": [
       "array([[61, 59, 55, 77, 69, 69, 48, 60],\n",
       "       [46, 45, 52, 74, 65, 53, 60, 55],\n",
       "       [75, 67, 53, 77, 60, 67, 67, 47]])"
      ]
     },
     "execution_count": 13,
     "metadata": {},
     "output_type": "execute_result"
    }
   ],
   "source": [
    "b[1:6:2]"
   ]
  },
  {
   "cell_type": "code",
   "execution_count": 15,
   "id": "010b32bc-3fc3-4d33-8fa6-9a9ae24d94b5",
   "metadata": {},
   "outputs": [
    {
     "data": {
      "text/plain": [
       "array([[59, 55, 77, 69, 69],\n",
       "       [45, 52, 74, 65, 53],\n",
       "       [67, 53, 77, 60, 67]])"
      ]
     },
     "execution_count": 15,
     "metadata": {},
     "output_type": "execute_result"
    }
   ],
   "source": [
    "b[1:6:2,1:6]"
   ]
  },
  {
   "cell_type": "code",
   "execution_count": 19,
   "id": "9c9b9f3b-84b4-4e7b-9a3d-edf41ccae563",
   "metadata": {},
   "outputs": [
    {
     "data": {
      "text/plain": [
       "array([[52, 74, 65, 53],\n",
       "       [46, 69, 65, 75],\n",
       "       [53, 77, 60, 67]])"
      ]
     },
     "execution_count": 19,
     "metadata": {},
     "output_type": "execute_result"
    }
   ],
   "source": [
    "b[3:6,2:6]"
   ]
  },
  {
   "cell_type": "code",
   "execution_count": 29,
   "id": "e6d8a6d4-704d-49bd-881b-e1e2bc3d0643",
   "metadata": {},
   "outputs": [
    {
     "data": {
      "text/plain": [
       "array([[59, 69, 60],\n",
       "       [45, 65, 55],\n",
       "       [67, 60, 47]])"
      ]
     },
     "execution_count": 29,
     "metadata": {},
     "output_type": "execute_result"
    }
   ],
   "source": [
    "b[1:7:2,1:8:3]"
   ]
  },
  {
   "cell_type": "code",
   "execution_count": null,
   "id": "c116c20d-8a6c-45f3-a809-2db3226f8535",
   "metadata": {},
   "outputs": [],
   "source": []
  },
  {
   "cell_type": "code",
   "execution_count": null,
   "id": "8a6da0df-4cda-4e44-a619-35e28070b99e",
   "metadata": {},
   "outputs": [],
   "source": []
  }
 ],
 "metadata": {
  "kernelspec": {
   "display_name": "Python [conda env:base] *",
   "language": "python",
   "name": "conda-base-py"
  },
  "language_info": {
   "codemirror_mode": {
    "name": "ipython",
    "version": 3
   },
   "file_extension": ".py",
   "mimetype": "text/x-python",
   "name": "python",
   "nbconvert_exporter": "python",
   "pygments_lexer": "ipython3",
   "version": "3.12.7"
  }
 },
 "nbformat": 4,
 "nbformat_minor": 5
}
