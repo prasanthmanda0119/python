{
 "cells": [
  {
   "cell_type": "code",
   "execution_count": 38,
   "id": "a387df04-1a99-4393-80bb-be3a3db7fd1d",
   "metadata": {},
   "outputs": [
    {
     "data": {
      "text/plain": [
       "[4, 6, 2, 8, 9]"
      ]
     },
     "execution_count": 38,
     "metadata": {},
     "output_type": "execute_result"
    }
   ],
   "source": [
    "#numpy is used for the matrix calculations and the concept of array\n",
    "import numpy as np\n",
    "j=[4,6,2,8,9]\n",
    "j"
   ]
  },
  {
   "cell_type": "code",
   "execution_count": null,
   "id": "d584bc90-a554-4011-85e8-bc2f6b50c46e",
   "metadata": {},
   "outputs": [],
   "source": [
    "1) numpy                      array operations\n",
    "2) pandas                     data manipulation and analysis\n",
    "3) matplotlib and seaborn     graphical analysis\n",
    "4) sklearn                    machine learning algorithms and techniques\n",
    "5) statsmodels                statistical analysis\n",
    "6) scipy                      statistical analysis"
   ]
  },
  {
   "cell_type": "code",
   "execution_count": 134,
   "id": "0e076620-faca-41e7-b37f-f6ff6960610f",
   "metadata": {},
   "outputs": [
    {
     "data": {
      "text/plain": [
       "[2, 5, 4, 2, 1, 3]"
      ]
     },
     "execution_count": 134,
     "metadata": {},
     "output_type": "execute_result"
    }
   ],
   "source": [
    "j=[2,5,4,2,1,3]\n",
    "j"
   ]
  },
  {
   "cell_type": "code",
   "execution_count": 136,
   "id": "81c2a296-e416-4ed0-8525-2695b4947f07",
   "metadata": {},
   "outputs": [
    {
     "data": {
      "text/plain": [
       "array([2, 5, 4, 2, 1, 3])"
      ]
     },
     "execution_count": 136,
     "metadata": {},
     "output_type": "execute_result"
    }
   ],
   "source": [
    "d=np.array(j)\n",
    "d"
   ]
  },
  {
   "cell_type": "code",
   "execution_count": 10,
   "id": "853516fd-a3d7-447c-b93b-a27212c69ab8",
   "metadata": {},
   "outputs": [
    {
     "data": {
      "text/plain": [
       "(2, 5, 4, 2, 1, 3, 7)"
      ]
     },
     "execution_count": 10,
     "metadata": {},
     "output_type": "execute_result"
    }
   ],
   "source": [
    "tuple(j)"
   ]
  },
  {
   "cell_type": "code",
   "execution_count": 24,
   "id": "8646b1e0-f7be-4a24-a8b2-aae0c1c30a55",
   "metadata": {},
   "outputs": [
    {
     "data": {
      "text/plain": [
       "numpy.ndarray"
      ]
     },
     "execution_count": 24,
     "metadata": {},
     "output_type": "execute_result"
    }
   ],
   "source": [
    "type(d)"
   ]
  },
  {
   "cell_type": "code",
   "execution_count": 26,
   "id": "7f65ec50-0355-4c4d-8c8f-f7bedbc2b51c",
   "metadata": {},
   "outputs": [
    {
     "data": {
      "text/plain": [
       "array([2, 5, 4, 2, 1, 3, 7])"
      ]
     },
     "execution_count": 26,
     "metadata": {},
     "output_type": "execute_result"
    }
   ],
   "source": [
    "d"
   ]
  },
  {
   "cell_type": "code",
   "execution_count": 28,
   "id": "7646055b-209d-4c9e-9567-831db9da220e",
   "metadata": {},
   "outputs": [
    {
     "data": {
      "text/plain": [
       "(7,)"
      ]
     },
     "execution_count": 28,
     "metadata": {},
     "output_type": "execute_result"
    }
   ],
   "source": [
    "d.shape"
   ]
  },
  {
   "cell_type": "code",
   "execution_count": 30,
   "id": "53ecf55d-912b-48c8-8537-b5b0ffafb98b",
   "metadata": {},
   "outputs": [
    {
     "ename": "AttributeError",
     "evalue": "'list' object has no attribute 'shape'",
     "output_type": "error",
     "traceback": [
      "\u001b[1;31m---------------------------------------------------------------------------\u001b[0m",
      "\u001b[1;31mAttributeError\u001b[0m                            Traceback (most recent call last)",
      "Cell \u001b[1;32mIn[30], line 1\u001b[0m\n\u001b[1;32m----> 1\u001b[0m j\u001b[38;5;241m.\u001b[39mshape\n",
      "\u001b[1;31mAttributeError\u001b[0m: 'list' object has no attribute 'shape'"
     ]
    }
   ],
   "source": [
    "#list doesn't have any shape\n",
    "j.shape"
   ]
  },
  {
   "cell_type": "code",
   "execution_count": 32,
   "id": "a3375078-8725-4fc7-9557-4335cb2732d1",
   "metadata": {},
   "outputs": [
    {
     "data": {
      "text/plain": [
       "1"
      ]
     },
     "execution_count": 32,
     "metadata": {},
     "output_type": "execute_result"
    }
   ],
   "source": [
    "d.ndim"
   ]
  },
  {
   "cell_type": "code",
   "execution_count": 88,
   "id": "dad73cd5-9dc4-48a6-8a84-4f1e749a2d12",
   "metadata": {},
   "outputs": [
    {
     "data": {
      "text/plain": [
       "<function ndarray.reshape>"
      ]
     },
     "execution_count": 88,
     "metadata": {},
     "output_type": "execute_result"
    }
   ],
   "source": [
    "d.reshape"
   ]
  },
  {
   "cell_type": "code",
   "execution_count": 36,
   "id": "4de03252-42f6-47a9-a608-c7f772298997",
   "metadata": {},
   "outputs": [
    {
     "data": {
      "text/plain": [
       "7"
      ]
     },
     "execution_count": 36,
     "metadata": {},
     "output_type": "execute_result"
    }
   ],
   "source": [
    "d.size"
   ]
  },
  {
   "cell_type": "code",
   "execution_count": 66,
   "id": "86f8a862-e8c6-41e0-99a6-66b1f2287d25",
   "metadata": {},
   "outputs": [
    {
     "data": {
      "text/plain": [
       "[[4, 6, 8, 9, 2],\n",
       " [5, 3, 5, 7, 5],\n",
       " [34, 67, 98, 94, 78],\n",
       " [23, 4, 5, 67, 78],\n",
       " [98, 45, 32, 34, 54]]"
      ]
     },
     "execution_count": 66,
     "metadata": {},
     "output_type": "execute_result"
    }
   ],
   "source": [
    "s=[[4,6,8,9,2],[5,3,5,7,5],[34,67,98,94,78],[23,4,5,67,78],[98,45,32,34,54]]\n",
    "s"
   ]
  },
  {
   "cell_type": "code",
   "execution_count": 68,
   "id": "429fc5db-4b5a-4822-ae36-1465608962d2",
   "metadata": {},
   "outputs": [
    {
     "data": {
      "text/plain": [
       "array([[ 4,  6,  8,  9,  2],\n",
       "       [ 5,  3,  5,  7,  5],\n",
       "       [34, 67, 98, 94, 78],\n",
       "       [23,  4,  5, 67, 78],\n",
       "       [98, 45, 32, 34, 54]])"
      ]
     },
     "execution_count": 68,
     "metadata": {},
     "output_type": "execute_result"
    }
   ],
   "source": [
    "arr1=np.array(s)\n",
    "arr1"
   ]
  },
  {
   "cell_type": "code",
   "execution_count": 70,
   "id": "b089be9c-cff1-483c-a663-3447692ee31a",
   "metadata": {},
   "outputs": [
    {
     "data": {
      "text/plain": [
       "list"
      ]
     },
     "execution_count": 70,
     "metadata": {},
     "output_type": "execute_result"
    }
   ],
   "source": [
    "type(s)"
   ]
  },
  {
   "cell_type": "code",
   "execution_count": 72,
   "id": "7953b04b-eb3e-442c-adb0-c692f3c712ff",
   "metadata": {},
   "outputs": [
    {
     "data": {
      "text/plain": [
       "numpy.ndarray"
      ]
     },
     "execution_count": 72,
     "metadata": {},
     "output_type": "execute_result"
    }
   ],
   "source": [
    "type(arr1)"
   ]
  },
  {
   "cell_type": "code",
   "execution_count": 74,
   "id": "1ce16b88-5151-41ac-abbc-12d623861916",
   "metadata": {},
   "outputs": [
    {
     "data": {
      "text/plain": [
       "(5, 5)"
      ]
     },
     "execution_count": 74,
     "metadata": {},
     "output_type": "execute_result"
    }
   ],
   "source": [
    "arr1.shape"
   ]
  },
  {
   "cell_type": "code",
   "execution_count": 76,
   "id": "a33ed409-875b-4ca4-b56a-1635f85931fd",
   "metadata": {},
   "outputs": [
    {
     "data": {
      "text/plain": [
       "25"
      ]
     },
     "execution_count": 76,
     "metadata": {},
     "output_type": "execute_result"
    }
   ],
   "source": [
    "arr1.size"
   ]
  },
  {
   "cell_type": "code",
   "execution_count": 78,
   "id": "b05ab0cb-8a22-4539-ac7f-eb6298c64cad",
   "metadata": {},
   "outputs": [
    {
     "data": {
      "text/plain": [
       "2"
      ]
     },
     "execution_count": 78,
     "metadata": {},
     "output_type": "execute_result"
    }
   ],
   "source": [
    "arr1.ndim"
   ]
  },
  {
   "cell_type": "code",
   "execution_count": 167,
   "id": "223edc46-d6dd-4c79-b72e-fee8979162b8",
   "metadata": {},
   "outputs": [
    {
     "data": {
      "text/plain": [
       "<function ndarray.reshape>"
      ]
     },
     "execution_count": 167,
     "metadata": {},
     "output_type": "execute_result"
    }
   ],
   "source": [
    "arr1.reshape"
   ]
  },
  {
   "cell_type": "code",
   "execution_count": 138,
   "id": "c345f5ed-122a-4bd8-b076-8000c8831df7",
   "metadata": {},
   "outputs": [
    {
     "data": {
      "text/plain": [
       "array([[2, 5, 4],\n",
       "       [2, 1, 3]])"
      ]
     },
     "execution_count": 138,
     "metadata": {},
     "output_type": "execute_result"
    }
   ],
   "source": [
    "h=d.reshape(2,3)\n",
    "h"
   ]
  },
  {
   "cell_type": "code",
   "execution_count": 142,
   "id": "1e0c3ae3-8d89-40d0-9a65-ec66e8e1ec83",
   "metadata": {},
   "outputs": [
    {
     "data": {
      "text/plain": [
       "6"
      ]
     },
     "execution_count": 142,
     "metadata": {},
     "output_type": "execute_result"
    }
   ],
   "source": [
    "h.size"
   ]
  },
  {
   "cell_type": "code",
   "execution_count": 144,
   "id": "9729b754-fa0e-49df-be12-8ccd37001643",
   "metadata": {},
   "outputs": [
    {
     "data": {
      "text/plain": [
       "(2, 3)"
      ]
     },
     "execution_count": 144,
     "metadata": {},
     "output_type": "execute_result"
    }
   ],
   "source": [
    "h.shape"
   ]
  },
  {
   "cell_type": "code",
   "execution_count": 146,
   "id": "0611b7b3-c27e-4b60-a522-0cd0339c3a96",
   "metadata": {},
   "outputs": [
    {
     "data": {
      "text/plain": [
       "2"
      ]
     },
     "execution_count": 146,
     "metadata": {},
     "output_type": "execute_result"
    }
   ],
   "source": [
    "h.ndim"
   ]
  },
  {
   "cell_type": "code",
   "execution_count": 148,
   "id": "bf94a472-0d37-41d1-b48b-bd2129fbf29a",
   "metadata": {},
   "outputs": [
    {
     "data": {
      "text/plain": [
       "array([[2, 5],\n",
       "       [4, 2],\n",
       "       [1, 3]])"
      ]
     },
     "execution_count": 148,
     "metadata": {},
     "output_type": "execute_result"
    }
   ],
   "source": [
    "w=h.reshape(3,2)\n",
    "w"
   ]
  },
  {
   "cell_type": "code",
   "execution_count": 150,
   "id": "7c6e3d6c-7557-45a2-a64d-ce34f6ab05dc",
   "metadata": {},
   "outputs": [
    {
     "data": {
      "text/plain": [
       "(3, 2)"
      ]
     },
     "execution_count": 150,
     "metadata": {},
     "output_type": "execute_result"
    }
   ],
   "source": [
    "w.shape\n"
   ]
  },
  {
   "cell_type": "code",
   "execution_count": 152,
   "id": "7f827723-8f4e-4cf1-a801-30e355fbeb20",
   "metadata": {},
   "outputs": [
    {
     "data": {
      "text/plain": [
       "6"
      ]
     },
     "execution_count": 152,
     "metadata": {},
     "output_type": "execute_result"
    }
   ],
   "source": [
    "w.size"
   ]
  },
  {
   "cell_type": "code",
   "execution_count": 154,
   "id": "5d94b562-add8-4abf-abca-0bab715e6d96",
   "metadata": {},
   "outputs": [
    {
     "data": {
      "text/plain": [
       "2"
      ]
     },
     "execution_count": 154,
     "metadata": {},
     "output_type": "execute_result"
    }
   ],
   "source": [
    "w.ndim"
   ]
  },
  {
   "cell_type": "code",
   "execution_count": 169,
   "id": "cf2a4463-3c58-4de4-bd7f-6ea155f95524",
   "metadata": {},
   "outputs": [
    {
     "data": {
      "text/plain": [
       "[4, 6, 7, 8, 9, 1, 2, 3, 11, 12]"
      ]
     },
     "execution_count": 169,
     "metadata": {},
     "output_type": "execute_result"
    }
   ],
   "source": [
    "m=[4,6,7,8,9,1,2,3,11,12]\n",
    "m"
   ]
  },
  {
   "cell_type": "code",
   "execution_count": 173,
   "id": "192bd976-65e8-46ef-af2e-4123f19fa366",
   "metadata": {},
   "outputs": [
    {
     "data": {
      "text/plain": [
       "range(3, 13)"
      ]
     },
     "execution_count": 173,
     "metadata": {},
     "output_type": "execute_result"
    }
   ],
   "source": [
    "range(3,13,)"
   ]
  },
  {
   "cell_type": "code",
   "execution_count": 175,
   "id": "b42af87d-a055-4269-a445-8e637a8e4339",
   "metadata": {},
   "outputs": [
    {
     "data": {
      "text/plain": [
       "[3, 5, 7, 9, 11]"
      ]
     },
     "execution_count": 175,
     "metadata": {},
     "output_type": "execute_result"
    }
   ],
   "source": [
    "list(range(3,13,2))"
   ]
  },
  {
   "cell_type": "code",
   "execution_count": 177,
   "id": "650d0fe4-a66e-4884-887d-8e3090500718",
   "metadata": {},
   "outputs": [
    {
     "data": {
      "text/plain": [
       "[3, 6, 9, 12]"
      ]
     },
     "execution_count": 177,
     "metadata": {},
     "output_type": "execute_result"
    }
   ],
   "source": [
    "list(range(3,13,3))"
   ]
  },
  {
   "cell_type": "code",
   "execution_count": 179,
   "id": "dd77d240-1735-43ae-a0da-c0ff07f1741a",
   "metadata": {},
   "outputs": [
    {
     "data": {
      "text/plain": [
       "range(5, 500)"
      ]
     },
     "execution_count": 179,
     "metadata": {},
     "output_type": "execute_result"
    }
   ],
   "source": [
    "range(5,500,)"
   ]
  },
  {
   "cell_type": "code",
   "execution_count": 185,
   "id": "8bd86fef-05d1-40e8-88b2-44c54ec33c8a",
   "metadata": {},
   "outputs": [
    {
     "data": {
      "text/plain": [
       "[5, 105, 205, 305, 405]"
      ]
     },
     "execution_count": 185,
     "metadata": {},
     "output_type": "execute_result"
    }
   ],
   "source": [
    "list(range(5,500,100))"
   ]
  },
  {
   "cell_type": "code",
   "execution_count": 197,
   "id": "dbe412f9-a20c-4dba-9a11-211bde25367d",
   "metadata": {},
   "outputs": [
    {
     "data": {
      "text/plain": [
       "(5, 115, 225, 335, 445)"
      ]
     },
     "execution_count": 197,
     "metadata": {},
     "output_type": "execute_result"
    }
   ],
   "source": [
    "tuple(range(5,520,110))"
   ]
  },
  {
   "cell_type": "code",
   "execution_count": 199,
   "id": "5aa79118-0e5e-44b9-aeea-67ec6a4de63c",
   "metadata": {},
   "outputs": [
    {
     "data": {
      "text/plain": [
       "[-10, -9, -8, -7, -6, -5, -4, -3, -2, -1, 0]"
      ]
     },
     "execution_count": 199,
     "metadata": {},
     "output_type": "execute_result"
    }
   ],
   "source": [
    "list(range(-10,1))"
   ]
  },
  {
   "cell_type": "code",
   "execution_count": 201,
   "id": "008001ed-aae0-422c-8f21-ecd3d99e2535",
   "metadata": {},
   "outputs": [
    {
     "data": {
      "text/plain": [
       "range(-1, -10)"
      ]
     },
     "execution_count": 201,
     "metadata": {},
     "output_type": "execute_result"
    }
   ],
   "source": [
    "range(-1,-10)"
   ]
  },
  {
   "cell_type": "code",
   "execution_count": 209,
   "id": "161e6345-be9f-4ae2-a07a-5a850d425c63",
   "metadata": {},
   "outputs": [
    {
     "data": {
      "text/plain": [
       "[-1, -2, -3, -4, -5, -6, -7, -8, -9]"
      ]
     },
     "execution_count": 209,
     "metadata": {},
     "output_type": "execute_result"
    }
   ],
   "source": [
    "list(range(-1,-10,-1))"
   ]
  },
  {
   "cell_type": "code",
   "execution_count": 211,
   "id": "d95948cb-abdb-4453-9278-3fd6c011dcec",
   "metadata": {},
   "outputs": [
    {
     "data": {
      "text/plain": [
       "[-1, -3, -5, -7, -9]"
      ]
     },
     "execution_count": 211,
     "metadata": {},
     "output_type": "execute_result"
    }
   ],
   "source": [
    "list(range(-1,-10,-2))"
   ]
  },
  {
   "cell_type": "code",
   "execution_count": 213,
   "id": "c46fd4ea-34ad-4832-9530-5f92bd4b4c92",
   "metadata": {},
   "outputs": [
    {
     "data": {
      "text/plain": [
       "[-1, -6]"
      ]
     },
     "execution_count": 213,
     "metadata": {},
     "output_type": "execute_result"
    }
   ],
   "source": [
    "list(range(-1,-10,-5))"
   ]
  },
  {
   "cell_type": "code",
   "execution_count": 215,
   "id": "de816fe8-e9da-46ec-b0f3-5bd0ab2d2ea8",
   "metadata": {},
   "outputs": [
    {
     "data": {
      "text/plain": [
       "[10, 9, 8, 7, 6, 5, 4, 3, 2, 1, 0, -1, -2, -3, -4, -5, -6, -7, -8, -9]"
      ]
     },
     "execution_count": 215,
     "metadata": {},
     "output_type": "execute_result"
    }
   ],
   "source": [
    "list(range(10,-10,-1))"
   ]
  },
  {
   "cell_type": "code",
   "execution_count": 217,
   "id": "675853bf-3a95-4b25-b1c8-55af6d23484e",
   "metadata": {},
   "outputs": [
    {
     "data": {
      "text/plain": [
       "[10, 7, 4, 1, -2, -5, -8]"
      ]
     },
     "execution_count": 217,
     "metadata": {},
     "output_type": "execute_result"
    }
   ],
   "source": [
    "list(range(10,-10,-3))"
   ]
  },
  {
   "cell_type": "code",
   "execution_count": 219,
   "id": "6d42c409-0e0d-4694-bbf0-af568548330e",
   "metadata": {},
   "outputs": [
    {
     "data": {
      "text/plain": [
       "[-1, -2, -3, -4, -5, -6, -7, -8, -9]"
      ]
     },
     "execution_count": 219,
     "metadata": {},
     "output_type": "execute_result"
    }
   ],
   "source": [
    "list(range(-1,-10,-1))"
   ]
  },
  {
   "cell_type": "code",
   "execution_count": 229,
   "id": "c53c4616-3aeb-4e0e-8aea-97dd44a481d6",
   "metadata": {},
   "outputs": [
    {
     "data": {
      "text/plain": [
       "[-1, -2, -3, -4, -5, -6, -7, -8, -9]"
      ]
     },
     "execution_count": 229,
     "metadata": {},
     "output_type": "execute_result"
    }
   ],
   "source": [
    "list(range(-1,-10,-1))"
   ]
  },
  {
   "cell_type": "code",
   "execution_count": 231,
   "id": "4038b2fa-7560-43b3-9eb6-04f4a95d0988",
   "metadata": {},
   "outputs": [
    {
     "data": {
      "text/plain": [
       "[2.5, 3, 3.5, 4, 4.5]"
      ]
     },
     "execution_count": 231,
     "metadata": {},
     "output_type": "execute_result"
    }
   ],
   "source": [
    "[2.5,3,3.5,4,4.5]"
   ]
  },
  {
   "cell_type": "code",
   "execution_count": 233,
   "id": "f2e12a80-0587-4338-9783-f1267e899af4",
   "metadata": {},
   "outputs": [
    {
     "ename": "TypeError",
     "evalue": "'float' object cannot be interpreted as an integer",
     "output_type": "error",
     "traceback": [
      "\u001b[1;31m---------------------------------------------------------------------------\u001b[0m",
      "\u001b[1;31mTypeError\u001b[0m                                 Traceback (most recent call last)",
      "Cell \u001b[1;32mIn[233], line 1\u001b[0m\n\u001b[1;32m----> 1\u001b[0m \u001b[38;5;28mrange\u001b[39m(\u001b[38;5;241m2.5\u001b[39m,\u001b[38;5;241m5\u001b[39m,\u001b[38;5;241m0.5\u001b[39m)\n",
      "\u001b[1;31mTypeError\u001b[0m: 'float' object cannot be interpreted as an integer"
     ]
    }
   ],
   "source": [
    "range(2.5,5,0.5)"
   ]
  },
  {
   "cell_type": "code",
   "execution_count": 235,
   "id": "2a0d09dd-5048-4eb6-b452-f08bccc21bfa",
   "metadata": {},
   "outputs": [
    {
     "data": {
      "text/plain": [
       "array([2.5, 3. , 3.5, 4. , 4.5])"
      ]
     },
     "execution_count": 235,
     "metadata": {},
     "output_type": "execute_result"
    }
   ],
   "source": [
    "#we can provide integer values and float values\n",
    "np.arange(2.5,5,0.5)"
   ]
  },
  {
   "cell_type": "code",
   "execution_count": 239,
   "id": "3fa59677-2c00-439c-be95-5100f6895045",
   "metadata": {},
   "outputs": [
    {
     "data": {
      "text/plain": [
       "(2.5, 5, 0.5)"
      ]
     },
     "execution_count": 239,
     "metadata": {},
     "output_type": "execute_result"
    }
   ],
   "source": [
    "2.5,5,0.5"
   ]
  },
  {
   "cell_type": "code",
   "execution_count": 243,
   "id": "b77501e9-46e5-4c0c-aa2a-340ffa0efb89",
   "metadata": {},
   "outputs": [
    {
     "data": {
      "text/plain": [
       "array([ 5, 10, 15, 20, 25, 30, 35, 40, 45])"
      ]
     },
     "execution_count": 243,
     "metadata": {},
     "output_type": "execute_result"
    }
   ],
   "source": [
    "np.arange(5,50,5)"
   ]
  },
  {
   "cell_type": "code",
   "execution_count": 247,
   "id": "abd73116-bf1c-4930-bcf8-96497cebe8a3",
   "metadata": {},
   "outputs": [
    {
     "name": "stdout",
     "output_type": "stream",
     "text": [
      "data 5\n",
      "data 10\n",
      "data 15\n",
      "data 20\n",
      "data 25\n",
      "data 30\n",
      "data 35\n",
      "data 40\n",
      "data 45\n"
     ]
    }
   ],
   "source": [
    "for i in range(5,50,5):\n",
    "    print(\"data\",i)"
   ]
  },
  {
   "cell_type": "code",
   "execution_count": 249,
   "id": "279f3bcf-68b7-407e-8190-af147cceb8d0",
   "metadata": {},
   "outputs": [
    {
     "data": {
      "text/plain": [
       "[5, 87, 98, 45, 56, 98, 43, 32, 12, 23]"
      ]
     },
     "execution_count": 249,
     "metadata": {},
     "output_type": "execute_result"
    }
   ],
   "source": [
    "j=[5,87,98,45,56,98,43,32,12,23]\n",
    "j"
   ]
  },
  {
   "cell_type": "code",
   "execution_count": 253,
   "id": "4a011754-e76c-4168-9c2e-d324cc91d278",
   "metadata": {},
   "outputs": [
    {
     "data": {
      "text/plain": [
       "[5, 6, 7, 8, 9, 10, 11, 12, 13, 14, 15, 16, 17, 18, 19, 20, 21, 22]"
      ]
     },
     "execution_count": 253,
     "metadata": {},
     "output_type": "execute_result"
    }
   ],
   "source": [
    "list(range(5,23))"
   ]
  },
  {
   "cell_type": "code",
   "execution_count": 255,
   "id": "59c43ec6-61c8-43a4-aa57-526aadea72cd",
   "metadata": {},
   "outputs": [
    {
     "data": {
      "text/plain": [
       "[5, 87, 98, 45, 56, 98, 43, 32, 12, 23]"
      ]
     },
     "execution_count": 255,
     "metadata": {},
     "output_type": "execute_result"
    }
   ],
   "source": [
    "j=[5,87,98,45,56,98,43,32,12,23]\n",
    "j"
   ]
  },
  {
   "cell_type": "code",
   "execution_count": 280,
   "id": "9c6e7c59-ad81-43d8-bfef-b402ba89f18b",
   "metadata": {},
   "outputs": [],
   "source": [
    "y=[]\n",
    "x=[]\n",
    "for i in range(len(j)):\n",
    "    if i % 2 == 0:\n",
    "        x.append(j[i])\n",
    "    else:\n",
    "        y.append(j[i])\n",
    "\n"
   ]
  },
  {
   "cell_type": "code",
   "execution_count": 282,
   "id": "3ebc1611-a3f6-454b-9b20-9a5f06500d51",
   "metadata": {},
   "outputs": [
    {
     "data": {
      "text/plain": [
       "[5, 98, 56, 43, 12]"
      ]
     },
     "execution_count": 282,
     "metadata": {},
     "output_type": "execute_result"
    }
   ],
   "source": [
    "x"
   ]
  },
  {
   "cell_type": "code",
   "execution_count": 284,
   "id": "a4d3b779-36df-4884-aa4f-43d1dc20609e",
   "metadata": {},
   "outputs": [
    {
     "data": {
      "text/plain": [
       "[87, 45, 98, 32, 23]"
      ]
     },
     "execution_count": 284,
     "metadata": {},
     "output_type": "execute_result"
    }
   ],
   "source": [
    "y"
   ]
  },
  {
   "cell_type": "code",
   "execution_count": 9,
   "id": "8dca1729-f24f-41bf-b4b4-43bf2e8aff71",
   "metadata": {},
   "outputs": [],
   "source": [
    "import numpy as np"
   ]
  },
  {
   "cell_type": "code",
   "execution_count": 19,
   "id": "ec6a9e91-cde4-40f2-ab96-0da39ef9e414",
   "metadata": {},
   "outputs": [
    {
     "data": {
      "text/plain": [
       "array([12, 34, 68, 56, 78])"
      ]
     },
     "execution_count": 19,
     "metadata": {},
     "output_type": "execute_result"
    }
   ],
   "source": [
    "l=np.array([12,34,68,56,78])\n",
    "l"
   ]
  },
  {
   "cell_type": "code",
   "execution_count": 21,
   "id": "cc81afcd-713a-4bfa-9667-dc395e90494c",
   "metadata": {},
   "outputs": [
    {
     "data": {
      "text/plain": [
       "49.6"
      ]
     },
     "execution_count": 21,
     "metadata": {},
     "output_type": "execute_result"
    }
   ],
   "source": [
    "np.mean(l)"
   ]
  },
  {
   "cell_type": "code",
   "execution_count": 23,
   "id": "034febe7-cc84-4ab6-8bff-94d3d2d13efb",
   "metadata": {},
   "outputs": [
    {
     "data": {
      "text/plain": [
       "56.0"
      ]
     },
     "execution_count": 23,
     "metadata": {},
     "output_type": "execute_result"
    }
   ],
   "source": [
    "np.median(l)"
   ]
  },
  {
   "cell_type": "code",
   "execution_count": 25,
   "id": "faa20e3e-0e92-4b81-81a4-bafa4be0b12c",
   "metadata": {},
   "outputs": [
    {
     "data": {
      "text/plain": [
       "568.6400000000001"
      ]
     },
     "execution_count": 25,
     "metadata": {},
     "output_type": "execute_result"
    }
   ],
   "source": [
    "np.var(l)"
   ]
  },
  {
   "cell_type": "code",
   "execution_count": 27,
   "id": "32abac05-8292-4608-aac0-9dc29291f570",
   "metadata": {},
   "outputs": [
    {
     "data": {
      "text/plain": [
       "23.84617369726221"
      ]
     },
     "execution_count": 27,
     "metadata": {},
     "output_type": "execute_result"
    }
   ],
   "source": [
    "np.std(l)"
   ]
  },
  {
   "cell_type": "code",
   "execution_count": 29,
   "id": "75d34923-b723-49da-92f0-934f9b40d748",
   "metadata": {},
   "outputs": [
    {
     "data": {
      "text/plain": [
       "78"
      ]
     },
     "execution_count": 29,
     "metadata": {},
     "output_type": "execute_result"
    }
   ],
   "source": [
    "np.max(l)"
   ]
  },
  {
   "cell_type": "code",
   "execution_count": 32,
   "id": "b443d381-3677-4741-80f2-cb41b81be15e",
   "metadata": {},
   "outputs": [
    {
     "data": {
      "text/plain": [
       "12"
      ]
     },
     "execution_count": 32,
     "metadata": {},
     "output_type": "execute_result"
    }
   ],
   "source": [
    "np.min(l)"
   ]
  },
  {
   "cell_type": "code",
   "execution_count": 40,
   "id": "7f4231fb-2f81-4248-9cfb-2f45c409b486",
   "metadata": {},
   "outputs": [
    {
     "data": {
      "text/plain": [
       "34.0"
      ]
     },
     "execution_count": 40,
     "metadata": {},
     "output_type": "execute_result"
    }
   ],
   "source": [
    "#quantile means the 25% of given data\n",
    "q1=np.quantile(l,0.25)\n",
    "q1"
   ]
  },
  {
   "cell_type": "code",
   "execution_count": 42,
   "id": "4fb733b1-375f-4881-83d2-a22825f07cf8",
   "metadata": {},
   "outputs": [
    {
     "data": {
      "text/plain": [
       "56.0"
      ]
     },
     "execution_count": 42,
     "metadata": {},
     "output_type": "execute_result"
    }
   ],
   "source": [
    "q2=np.quantile(l,0.5)\n",
    "q2"
   ]
  },
  {
   "cell_type": "code",
   "execution_count": 44,
   "id": "a10e0724-50ee-4b84-9cc6-479a537b799f",
   "metadata": {},
   "outputs": [
    {
     "data": {
      "text/plain": [
       "68.0"
      ]
     },
     "execution_count": 44,
     "metadata": {},
     "output_type": "execute_result"
    }
   ],
   "source": [
    "q3=np.quantile(l,0.75)\n",
    "q3"
   ]
  },
  {
   "cell_type": "code",
   "execution_count": 46,
   "id": "94a57fdf-ac06-4291-aae3-93e340f46386",
   "metadata": {},
   "outputs": [
    {
     "data": {
      "text/plain": [
       "array([[0.21519814, 0.05748081, 0.49363787, 0.69364294, 0.34168861,\n",
       "        0.89171513],\n",
       "       [0.83073433, 0.54402626, 0.76614724, 0.08251826, 0.83637868,\n",
       "        0.67596805],\n",
       "       [0.97254454, 0.04370161, 0.27965831, 0.88568148, 0.51676361,\n",
       "        0.78161422],\n",
       "       [0.74662795, 0.15187021, 0.29633814, 0.17671712, 0.39260476,\n",
       "        0.2623356 ],\n",
       "       [0.92553738, 0.31296059, 0.02146689, 0.35669392, 0.30224326,\n",
       "        0.04744359],\n",
       "       [0.2167832 , 0.10351135, 0.27726478, 0.33529527, 0.04603668,\n",
       "        0.79197235],\n",
       "       [0.2900498 , 0.32231508, 0.73625106, 0.67917821, 0.01737287,\n",
       "        0.29626009],\n",
       "       [0.29625907, 0.77237452, 0.36277028, 0.9031247 , 0.37956826,\n",
       "        0.82348397],\n",
       "       [0.76428141, 0.86189558, 0.62892755, 0.00333057, 0.2489485 ,\n",
       "        0.5210316 ],\n",
       "       [0.63350707, 0.38924216, 0.81816921, 0.73142076, 0.48222266,\n",
       "        0.2713521 ],\n",
       "       [0.91599343, 0.9233154 , 0.43275487, 0.24530809, 0.20594858,\n",
       "        0.96342534],\n",
       "       [0.4206768 , 0.46451502, 0.29392746, 0.77061252, 0.88192217,\n",
       "        0.90729681]])"
      ]
     },
     "execution_count": 46,
     "metadata": {},
     "output_type": "execute_result"
    }
   ],
   "source": [
    "np.random.rand(12,6)"
   ]
  },
  {
   "cell_type": "code",
   "execution_count": 48,
   "id": "38bd95c7-4784-4c3c-9190-96e363f92662",
   "metadata": {},
   "outputs": [
    {
     "data": {
      "text/plain": [
       "0.6068854299463831"
      ]
     },
     "execution_count": 48,
     "metadata": {},
     "output_type": "execute_result"
    }
   ],
   "source": [
    "np.random.rand()"
   ]
  },
  {
   "cell_type": "code",
   "execution_count": 50,
   "id": "f055b79a-2328-4767-9440-6ece08c198c1",
   "metadata": {},
   "outputs": [
    {
     "data": {
      "text/plain": [
       "array([0.1815528])"
      ]
     },
     "execution_count": 50,
     "metadata": {},
     "output_type": "execute_result"
    }
   ],
   "source": [
    "np.random.rand(1)"
   ]
  },
  {
   "cell_type": "code",
   "execution_count": 70,
   "id": "5c14a418-462e-46fd-875a-f82688997f29",
   "metadata": {},
   "outputs": [
    {
     "data": {
      "text/plain": [
       "array([[[0.51131664, 0.07108906],\n",
       "        [0.30894862, 0.5550283 ],\n",
       "        [0.51152413, 0.75751614]],\n",
       "\n",
       "       [[0.0888592 , 0.19684828],\n",
       "        [0.89489894, 0.29362125],\n",
       "        [0.27683132, 0.33449215]],\n",
       "\n",
       "       [[0.93585328, 0.23793766],\n",
       "        [0.65708242, 0.31892047],\n",
       "        [0.79376398, 0.02591525]],\n",
       "\n",
       "       [[0.18121148, 0.81491521],\n",
       "        [0.84135904, 0.54972646],\n",
       "        [0.89083941, 0.51795556]],\n",
       "\n",
       "       [[0.19850581, 0.76616997],\n",
       "        [0.4400053 , 0.29631037],\n",
       "        [0.14961566, 0.13000564]]])"
      ]
     },
     "execution_count": 70,
     "metadata": {},
     "output_type": "execute_result"
    }
   ],
   "source": [
    "r=np.random.rand(5,3,2)#0 to 1 range(mean,s.d,shape of array)\n",
    "r"
   ]
  },
  {
   "cell_type": "code",
   "execution_count": 72,
   "id": "4634d99b-aa83-43fc-bb3a-e204c2d50a87",
   "metadata": {},
   "outputs": [
    {
     "data": {
      "text/plain": [
       "(5, 3, 2)"
      ]
     },
     "execution_count": 72,
     "metadata": {},
     "output_type": "execute_result"
    }
   ],
   "source": [
    "r.shape"
   ]
  },
  {
   "cell_type": "code",
   "execution_count": 74,
   "id": "702c40cc-534b-4686-8707-b370ab9e49e1",
   "metadata": {},
   "outputs": [
    {
     "data": {
      "text/plain": [
       "30"
      ]
     },
     "execution_count": 74,
     "metadata": {},
     "output_type": "execute_result"
    }
   ],
   "source": [
    "r.size"
   ]
  },
  {
   "cell_type": "code",
   "execution_count": 76,
   "id": "533d5f09-ddbc-4d0a-82c2-46e66e85cda7",
   "metadata": {},
   "outputs": [
    {
     "data": {
      "text/plain": [
       "3"
      ]
     },
     "execution_count": 76,
     "metadata": {},
     "output_type": "execute_result"
    }
   ],
   "source": [
    "r.ndim"
   ]
  },
  {
   "cell_type": "code",
   "execution_count": 84,
   "id": "4fae3888-c8b2-4caa-8a17-644fea907dcc",
   "metadata": {},
   "outputs": [
    {
     "data": {
      "text/plain": [
       "array([ 0.30948434, -0.38714003, -0.8291227 , -2.97435822, -0.98027682,\n",
       "        1.1514002 , -0.55095555,  0.95711338,  0.19830638, -1.9949793 ,\n",
       "        2.07008646,  1.40476188, -1.24604597,  1.11915287, -0.07821441,\n",
       "        0.0085988 ,  0.67625228,  0.73340738,  0.10748256, -0.54564192,\n",
       "        1.01053945,  0.21434811, -0.14660395, -1.67297697, -1.46236525,\n",
       "        0.53303837,  0.45535831,  2.0715385 ,  1.22369479,  0.99701508,\n",
       "        0.31653384, -0.1804105 ,  0.75835368, -0.82432677, -0.60901309,\n",
       "       -1.00672324,  0.19796361,  0.23187855, -0.45089237,  0.99334206,\n",
       "       -0.37360083, -1.56176183, -0.10603915, -0.83939339,  1.79691853,\n",
       "       -1.30355765,  0.05389771, -0.58246293,  0.3189366 , -0.34234434,\n",
       "       -0.00447535,  0.74915602, -0.231175  , -0.32885494, -2.28524844,\n",
       "        0.79787151, -0.32812923,  0.34482507, -0.26954837,  0.73383739,\n",
       "        0.13720868,  0.62233486,  0.28807992,  0.87892109, -0.0382785 ,\n",
       "        1.42704137,  1.29214626, -1.85701151,  0.40088687,  0.27491868,\n",
       "        1.11376613,  0.99067746, -0.8158704 , -0.31654689,  1.19187798,\n",
       "        1.2739196 ,  2.10882874, -0.49965742,  0.2909985 ,  0.37135986,\n",
       "        0.86232622, -0.57021729,  0.3416402 ,  0.43498275, -0.51576379,\n",
       "       -0.00672053,  0.93727305, -0.2456371 ,  1.37659288,  1.14430981])"
      ]
     },
     "execution_count": 84,
     "metadata": {},
     "output_type": "execute_result"
    }
   ],
   "source": [
    "np.random.randn(90,)"
   ]
  },
  {
   "cell_type": "code",
   "execution_count": 88,
   "id": "fa10f505-dda3-4ce3-bcf4-e14f4c1449ce",
   "metadata": {},
   "outputs": [
    {
     "data": {
      "text/plain": [
       "array([[ 1.78571824],\n",
       "       [-0.05045602],\n",
       "       [ 0.25376495],\n",
       "       [-1.15129695],\n",
       "       [-0.11700813],\n",
       "       [-0.35452912],\n",
       "       [ 0.48903368],\n",
       "       [ 1.20862231],\n",
       "       [-1.75184953],\n",
       "       [ 0.99302202],\n",
       "       [-0.95745458],\n",
       "       [-1.74062775],\n",
       "       [-0.65649844],\n",
       "       [-0.79983575],\n",
       "       [ 2.0833553 ],\n",
       "       [-0.06635075],\n",
       "       [-1.53218207],\n",
       "       [-0.51249436],\n",
       "       [-0.33103573],\n",
       "       [-1.07179593],\n",
       "       [-0.82009745],\n",
       "       [-1.2194045 ],\n",
       "       [-0.15676016],\n",
       "       [ 0.49412298],\n",
       "       [ 0.58329217],\n",
       "       [ 0.0897187 ],\n",
       "       [ 0.92076556],\n",
       "       [-0.77434274],\n",
       "       [-0.98812813],\n",
       "       [ 0.78032923]])"
      ]
     },
     "execution_count": 88,
     "metadata": {},
     "output_type": "execute_result"
    }
   ],
   "source": [
    "np.random.randn(30,1)#-3 t0 +3 range"
   ]
  },
  {
   "cell_type": "code",
   "execution_count": 90,
   "id": "019fe1b8-354a-40ec-94ca-cecfd17fc93b",
   "metadata": {},
   "outputs": [
    {
     "data": {
      "text/plain": [
       "array([[11.07835249, 12.67028538,  8.82774228, 12.38967101,  8.05314821],\n",
       "       [11.30618817,  9.94318983, 11.75516042, 11.9815079 , 10.11286717],\n",
       "       [ 9.48506623, 12.83695317,  8.33832111,  6.66555506,  7.92427003],\n",
       "       [ 6.3123932 , 10.77685949,  6.19931025,  7.91895132, 12.24666356]])"
      ]
     },
     "execution_count": 90,
     "metadata": {},
     "output_type": "execute_result"
    }
   ],
   "source": [
    "np.random.normal(10,2,(4,5))"
   ]
  },
  {
   "cell_type": "code",
   "execution_count": 97,
   "id": "1b5f7b94-903a-490f-9a10-b859f648795f",
   "metadata": {},
   "outputs": [
    {
     "data": {
      "text/plain": [
       "30.368809750594522"
      ]
     },
     "execution_count": 97,
     "metadata": {},
     "output_type": "execute_result"
    }
   ],
   "source": [
    "#to craete normal distribution\n",
    "np.random.normal(40,5)"
   ]
  },
  {
   "cell_type": "code",
   "execution_count": 99,
   "id": "42d44fc6-f0ad-48af-811e-6f2ff3b92038",
   "metadata": {},
   "outputs": [
    {
     "data": {
      "text/plain": [
       "array([[48.57843101, 34.23034367, 41.02153702, 33.05234083],\n",
       "       [38.92498267, 36.0496549 , 37.19783337, 36.60019443],\n",
       "       [36.2780414 , 33.28605134, 25.51600693, 48.0904736 ],\n",
       "       [40.2691927 , 39.48114157, 43.98123806, 42.00492026],\n",
       "       [26.25394384, 31.53604054, 37.81539293, 31.1077876 ]])"
      ]
     },
     "execution_count": 99,
     "metadata": {},
     "output_type": "execute_result"
    }
   ],
   "source": [
    "np.random.normal(40,5,(5,4))"
   ]
  },
  {
   "cell_type": "code",
   "execution_count": 101,
   "id": "230b0dd3-f8d1-4bac-b727-b36a6617a2e4",
   "metadata": {},
   "outputs": [
    {
     "data": {
      "text/plain": [
       "array([[10.77030383, 12.85721503,  9.86236016,  7.90591986],\n",
       "       [10.33076557,  7.47544894, 10.75758067,  8.43558523],\n",
       "       [ 9.14583371, 13.81461162,  9.23205856,  8.98166444],\n",
       "       [ 9.32030149, 11.56679902, 10.31635051, 13.06892151],\n",
       "       [12.11080627, 11.02154773, 10.17590443,  9.69676424],\n",
       "       [ 8.88202425, 10.67130248,  9.23677818, 10.9589183 ],\n",
       "       [11.22597893, 11.47243413, 12.23872022, 12.40247353]])"
      ]
     },
     "execution_count": 101,
     "metadata": {},
     "output_type": "execute_result"
    }
   ],
   "source": [
    "np.random.normal(10,2,(7,4))"
   ]
  },
  {
   "cell_type": "code",
   "execution_count": 105,
   "id": "5e837ebf-3396-463b-874d-f827ea75cb2d",
   "metadata": {},
   "outputs": [
    {
     "data": {
      "text/plain": [
       "37"
      ]
     },
     "execution_count": 105,
     "metadata": {},
     "output_type": "execute_result"
    }
   ],
   "source": [
    "np.random.randint(35,86)"
   ]
  },
  {
   "cell_type": "code",
   "execution_count": null,
   "id": "bd66112b-911d-4050-bf5f-8469f2507778",
   "metadata": {},
   "outputs": [],
   "source": []
  }
 ],
 "metadata": {
  "kernelspec": {
   "display_name": "Python [conda env:base] *",
   "language": "python",
   "name": "conda-base-py"
  },
  "language_info": {
   "codemirror_mode": {
    "name": "ipython",
    "version": 3
   },
   "file_extension": ".py",
   "mimetype": "text/x-python",
   "name": "python",
   "nbconvert_exporter": "python",
   "pygments_lexer": "ipython3",
   "version": "3.12.7"
  }
 },
 "nbformat": 4,
 "nbformat_minor": 5
}
