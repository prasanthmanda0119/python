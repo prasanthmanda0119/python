{
 "cells": [
  {
   "cell_type": "raw",
   "id": "d15571d0-040e-471c-9fc7-a92e1f86fc5a",
   "metadata": {},
   "source": [
    "#syntax of functions\n",
    "def functionname(parameter):\n",
    "    block of code\n",
    "    return output"
   ]
  },
  {
   "cell_type": "code",
   "execution_count": 48,
   "id": "78f4bde0-3a26-42fe-8dd1-de111f90af9d",
   "metadata": {},
   "outputs": [
    {
     "data": {
      "text/plain": [
       "31400.0"
      ]
     },
     "execution_count": 48,
     "metadata": {},
     "output_type": "execute_result"
    }
   ],
   "source": [
    "#return statment in functions gives the correct datatype of output\n",
    "def calArea(r):\n",
    "    a=3.14*r*r\n",
    "    return a\n",
    "calArea(r=100)"
   ]
  },
  {
   "cell_type": "code",
   "execution_count": 50,
   "id": "c2e6c461-7129-437b-81cb-311a978e7a0d",
   "metadata": {},
   "outputs": [
    {
     "data": {
      "text/plain": [
       "31400.0"
      ]
     },
     "execution_count": 50,
     "metadata": {},
     "output_type": "execute_result"
    }
   ],
   "source": [
    "k=calArea(r=100)\n",
    "k"
   ]
  },
  {
   "cell_type": "code",
   "execution_count": 52,
   "id": "389b8f31-e31b-45ae-9e6c-296b097c79c2",
   "metadata": {},
   "outputs": [
    {
     "data": {
      "text/plain": [
       "float"
      ]
     },
     "execution_count": 52,
     "metadata": {},
     "output_type": "execute_result"
    }
   ],
   "source": [
    "type(k)"
   ]
  },
  {
   "cell_type": "code",
   "execution_count": null,
   "id": "cf1c97f8-b888-4655-885c-8f36618a6847",
   "metadata": {},
   "outputs": [],
   "source": [
    "#using print for accepting the output and the type of the output becomes none type\n"
   ]
  },
  {
   "cell_type": "code",
   "execution_count": 54,
   "id": "916d98e1-0761-4501-90f6-b5124bc1629c",
   "metadata": {},
   "outputs": [
    {
     "name": "stdout",
     "output_type": "stream",
     "text": [
      "31400.0\n"
     ]
    }
   ],
   "source": [
    "def calArea(r):\n",
    "    a=3.14*r*r\n",
    "    print(a)\n",
    "#calling the function\n",
    "calArea(r=100)"
   ]
  },
  {
   "cell_type": "code",
   "execution_count": 56,
   "id": "21688f55-7d24-40d7-85cd-758b78a8209a",
   "metadata": {},
   "outputs": [
    {
     "name": "stdout",
     "output_type": "stream",
     "text": [
      "31400.0\n"
     ]
    }
   ],
   "source": [
    "k=calArea(r=100)\n",
    "k"
   ]
  },
  {
   "cell_type": "code",
   "execution_count": 58,
   "id": "37ae46c0-2737-4101-b741-591274c12a97",
   "metadata": {},
   "outputs": [
    {
     "data": {
      "text/plain": [
       "NoneType"
      ]
     },
     "execution_count": 58,
     "metadata": {},
     "output_type": "execute_result"
    }
   ],
   "source": [
    "type(k)"
   ]
  },
  {
   "cell_type": "code",
   "execution_count": 60,
   "id": "f18c1ed7-df4e-4733-8587-bea3b0ef5265",
   "metadata": {},
   "outputs": [],
   "source": [
    "def d_to_inr(x):\n",
    "    print(x*85)"
   ]
  },
  {
   "cell_type": "code",
   "execution_count": 68,
   "id": "99ee886f-4df9-4be9-be71-9a1a4bc713a0",
   "metadata": {},
   "outputs": [
    {
     "data": {
      "text/plain": [
       "NoneType"
      ]
     },
     "execution_count": 68,
     "metadata": {},
     "output_type": "execute_result"
    }
   ],
   "source": [
    "type(a)"
   ]
  },
  {
   "cell_type": "code",
   "execution_count": 44,
   "id": "6189f18c-8f93-4ef4-8dc0-07413ae6c6bd",
   "metadata": {},
   "outputs": [
    {
     "name": "stdout",
     "output_type": "stream",
     "text": [
      "1105\n"
     ]
    }
   ],
   "source": [
    "a=d_to_inr(13)\n",
    "a"
   ]
  },
  {
   "cell_type": "code",
   "execution_count": 46,
   "id": "18fa1feb-38c6-4032-bf61-10ae1fe29895",
   "metadata": {},
   "outputs": [
    {
     "name": "stdout",
     "output_type": "stream",
     "text": [
      "1020\n"
     ]
    }
   ],
   "source": [
    "b=d_to_inr(12)\n",
    "b"
   ]
  },
  {
   "cell_type": "code",
   "execution_count": 70,
   "id": "3a74c8b0-b38f-4425-a204-8fea116d6ee1",
   "metadata": {},
   "outputs": [
    {
     "data": {
      "text/plain": [
       "NoneType"
      ]
     },
     "execution_count": 70,
     "metadata": {},
     "output_type": "execute_result"
    }
   ],
   "source": [
    "type(b)"
   ]
  },
  {
   "cell_type": "code",
   "execution_count": 62,
   "id": "df6e2171-49fb-41c4-a0d0-f36eb16f85dc",
   "metadata": {},
   "outputs": [],
   "source": [
    "def d_to_inr(x):\n",
    "    return(x*85)"
   ]
  },
  {
   "cell_type": "code",
   "execution_count": 74,
   "id": "b304ad89-89b2-4163-9694-b58ffbecd17e",
   "metadata": {},
   "outputs": [
    {
     "data": {
      "text/plain": [
       "1275"
      ]
     },
     "execution_count": 74,
     "metadata": {},
     "output_type": "execute_result"
    }
   ],
   "source": [
    "a=d_to_inr(15)\n",
    "a"
   ]
  },
  {
   "cell_type": "code",
   "execution_count": 76,
   "id": "744c9252-a38e-42d5-8707-37ce60f3d2aa",
   "metadata": {},
   "outputs": [
    {
     "data": {
      "text/plain": [
       "int"
      ]
     },
     "execution_count": 76,
     "metadata": {},
     "output_type": "execute_result"
    }
   ],
   "source": [
    "type(a)"
   ]
  },
  {
   "cell_type": "code",
   "execution_count": 78,
   "id": "0d728115-90fd-41b3-bb51-ee6892959b36",
   "metadata": {},
   "outputs": [
    {
     "data": {
      "text/plain": [
       "1020"
      ]
     },
     "execution_count": 78,
     "metadata": {},
     "output_type": "execute_result"
    }
   ],
   "source": [
    "b=d_to_inr(12)\n",
    "b"
   ]
  },
  {
   "cell_type": "code",
   "execution_count": 80,
   "id": "0f36d918-1e9a-48de-a39a-adc7901bcacc",
   "metadata": {},
   "outputs": [
    {
     "data": {
      "text/plain": [
       "int"
      ]
     },
     "execution_count": 80,
     "metadata": {},
     "output_type": "execute_result"
    }
   ],
   "source": [
    "type(b)"
   ]
  },
  {
   "cell_type": "code",
   "execution_count": 86,
   "id": "19484803-436d-4853-a09e-1a769873c47f",
   "metadata": {},
   "outputs": [
    {
     "data": {
      "text/plain": [
       "'india'"
      ]
     },
     "execution_count": 86,
     "metadata": {},
     "output_type": "execute_result"
    }
   ],
   "source": [
    "c='INDIA'\n",
    "c.lower()"
   ]
  },
  {
   "cell_type": "code",
   "execution_count": 82,
   "id": "f07301c9-6874-48dd-9eb9-5d25d018a37c",
   "metadata": {},
   "outputs": [
    {
     "name": "stdout",
     "output_type": "stream",
     "text": [
      "India\n"
     ]
    }
   ],
   "source": [
    "a=print('India')\n",
    "a"
   ]
  },
  {
   "cell_type": "code",
   "execution_count": 84,
   "id": "e5f040ed-6a4c-4bd3-b6d7-cbfbdcbfa971",
   "metadata": {},
   "outputs": [
    {
     "ename": "AttributeError",
     "evalue": "'NoneType' object has no attribute 'lower'",
     "output_type": "error",
     "traceback": [
      "\u001b[1;31m---------------------------------------------------------------------------\u001b[0m",
      "\u001b[1;31mAttributeError\u001b[0m                            Traceback (most recent call last)",
      "Cell \u001b[1;32mIn[84], line 1\u001b[0m\n\u001b[1;32m----> 1\u001b[0m a\u001b[38;5;241m.\u001b[39mlower()\n",
      "\u001b[1;31mAttributeError\u001b[0m: 'NoneType' object has no attribute 'lower'"
     ]
    }
   ],
   "source": [
    "#print function returns the non type object so we cannot convert into lower case\n",
    "a.lower()"
   ]
  },
  {
   "cell_type": "code",
   "execution_count": 94,
   "id": "c8630e5c-edf2-40c3-acd1-a346608e5c21",
   "metadata": {},
   "outputs": [],
   "source": [
    "#passing the arguments by their positions called positional arguments\n",
    "#we cannot use another type of arguments for the calculations only int can be used\n",
    "def aor(l,w):\n",
    "    area=l*w\n",
    "    return area"
   ]
  },
  {
   "cell_type": "code",
   "execution_count": 96,
   "id": "f1abf203-5e23-417a-9cb9-d6c020e06216",
   "metadata": {},
   "outputs": [
    {
     "data": {
      "text/plain": [
       "1104"
      ]
     },
     "execution_count": 96,
     "metadata": {},
     "output_type": "execute_result"
    }
   ],
   "source": [
    "aor(23,48)"
   ]
  },
  {
   "cell_type": "code",
   "execution_count": 98,
   "id": "2494f991-31c3-4f67-b01d-33bb792de05c",
   "metadata": {},
   "outputs": [
    {
     "data": {
      "text/plain": [
       "1104"
      ]
     },
     "execution_count": 98,
     "metadata": {},
     "output_type": "execute_result"
    }
   ],
   "source": [
    "#we can pass reference for the parameters if we dont know the positions\n",
    "aor(w=23,l=48)"
   ]
  },
  {
   "cell_type": "code",
   "execution_count": 108,
   "id": "40191f93-c479-4c02-993f-85bd225bc7fe",
   "metadata": {},
   "outputs": [],
   "source": [
    "def area(radius,length,width):\n",
    "    aoc=3.14*radius*radius\n",
    "    aor=length*width\n",
    "    return aoc,aor"
   ]
  },
  {
   "cell_type": "code",
   "execution_count": 116,
   "id": "c858532c-3431-43d0-a4f1-a437e5c921f8",
   "metadata": {},
   "outputs": [
    {
     "data": {
      "text/plain": [
       "(24, 55, 66)"
      ]
     },
     "execution_count": 116,
     "metadata": {},
     "output_type": "execute_result"
    }
   ],
   "source": [
    "#if we give commasin between the values we get the tuple as output by default\n",
    "b=24,55,66\n",
    "b"
   ]
  },
  {
   "cell_type": "code",
   "execution_count": 118,
   "id": "5dbdf99b-673b-41c7-ad34-6b5cde79be59",
   "metadata": {},
   "outputs": [
    {
     "data": {
      "text/plain": [
       "(314.0, 600)"
      ]
     },
     "execution_count": 118,
     "metadata": {},
     "output_type": "execute_result"
    }
   ],
   "source": [
    "a=area(10,20,30)\n",
    "a"
   ]
  },
  {
   "cell_type": "code",
   "execution_count": 120,
   "id": "d20b36e4-4859-4a39-9bd9-4bd235cd0d66",
   "metadata": {},
   "outputs": [
    {
     "data": {
      "text/plain": [
       "tuple"
      ]
     },
     "execution_count": 120,
     "metadata": {},
     "output_type": "execute_result"
    }
   ],
   "source": [
    "type(a)"
   ]
  },
  {
   "cell_type": "code",
   "execution_count": 124,
   "id": "bdcd15f6-dabf-419b-8c8a-6c633488e4a1",
   "metadata": {},
   "outputs": [
    {
     "data": {
      "text/plain": [
       "314.0"
      ]
     },
     "execution_count": 124,
     "metadata": {},
     "output_type": "execute_result"
    }
   ],
   "source": [
    "a[0]"
   ]
  },
  {
   "cell_type": "code",
   "execution_count": 126,
   "id": "7750a964-d1b0-4c80-be2a-fca58cc7fd58",
   "metadata": {},
   "outputs": [
    {
     "data": {
      "text/plain": [
       "600"
      ]
     },
     "execution_count": 126,
     "metadata": {},
     "output_type": "execute_result"
    }
   ],
   "source": [
    "a[1]"
   ]
  },
  {
   "cell_type": "code",
   "execution_count": 130,
   "id": "84e4c5e4-336c-4508-8f33-08790b2a34c5",
   "metadata": {},
   "outputs": [],
   "source": [
    "aor,aoc=area(20,30,40)"
   ]
  },
  {
   "cell_type": "code",
   "execution_count": 132,
   "id": "25cd0bda-5ed6-47d1-93c3-08868b775a85",
   "metadata": {},
   "outputs": [
    {
     "data": {
      "text/plain": [
       "1256.0"
      ]
     },
     "execution_count": 132,
     "metadata": {},
     "output_type": "execute_result"
    }
   ],
   "source": [
    "aor"
   ]
  },
  {
   "cell_type": "code",
   "execution_count": 137,
   "id": "30d71db3-515e-40c5-ba69-ec44dd6f8e07",
   "metadata": {},
   "outputs": [
    {
     "data": {
      "text/plain": [
       "1200"
      ]
     },
     "execution_count": 137,
     "metadata": {},
     "output_type": "execute_result"
    }
   ],
   "source": [
    "aoc"
   ]
  },
  {
   "cell_type": "code",
   "execution_count": null,
   "id": "fc155d03-ce90-4e81-9d3b-9c067837c5ce",
   "metadata": {},
   "outputs": [],
   "source": [
    "#to get the output as list we can give square brackets and for set curly brackets"
   ]
  },
  {
   "cell_type": "code",
   "execution_count": 139,
   "id": "dcab0a13-1817-40d9-9fa2-ab3ec434d555",
   "metadata": {},
   "outputs": [],
   "source": [
    "def area(radius,length,width):\n",
    "    aoc=3.14*radius*radius\n",
    "    aor=length*width\n",
    "    return [aoc,aor]"
   ]
  },
  {
   "cell_type": "code",
   "execution_count": 145,
   "id": "23eade72-dd02-4bc5-90e8-1174be0a87e9",
   "metadata": {},
   "outputs": [
    {
     "data": {
      "text/plain": [
       "[1808.6399999999999, 900]"
      ]
     },
     "execution_count": 145,
     "metadata": {},
     "output_type": "execute_result"
    }
   ],
   "source": [
    "k=area(24,25,36)\n",
    "k"
   ]
  },
  {
   "cell_type": "code",
   "execution_count": 150,
   "id": "a047887a-1048-4e1e-8065-db1ae85bac43",
   "metadata": {},
   "outputs": [
    {
     "data": {
      "text/plain": [
       "1808.6399999999999"
      ]
     },
     "execution_count": 150,
     "metadata": {},
     "output_type": "execute_result"
    }
   ],
   "source": [
    "k[0]"
   ]
  },
  {
   "cell_type": "code",
   "execution_count": 152,
   "id": "d4d3e6fd-74be-4018-82a1-56ddff21deeb",
   "metadata": {},
   "outputs": [
    {
     "data": {
      "text/plain": [
       "900"
      ]
     },
     "execution_count": 152,
     "metadata": {},
     "output_type": "execute_result"
    }
   ],
   "source": [
    "k[1]"
   ]
  },
  {
   "cell_type": "code",
   "execution_count": 156,
   "id": "2efee2ff-2da5-4278-a59d-31713767448b",
   "metadata": {},
   "outputs": [],
   "source": [
    "def area(radius,length,width):\n",
    "    aoc=3.14*radius*radius\n",
    "    aor=length*width\n",
    "    return {aoc,aor}"
   ]
  },
  {
   "cell_type": "code",
   "execution_count": 158,
   "id": "c81aba3d-765e-4043-9133-28c016c7a87d",
   "metadata": {},
   "outputs": [
    {
     "data": {
      "text/plain": [
       "{3560, 25434.000000000004}"
      ]
     },
     "execution_count": 158,
     "metadata": {},
     "output_type": "execute_result"
    }
   ],
   "source": [
    "area(90,40,89)"
   ]
  },
  {
   "cell_type": "code",
   "execution_count": 160,
   "id": "44ecc285-86c8-49b4-b574-b652c5af4e4e",
   "metadata": {},
   "outputs": [],
   "source": [
    "#to differentiate the outputs for each arguments we can give dict(key,value pair)\n",
    "def area(radius,length,width):\n",
    "    aoc=3.14*radius*radius\n",
    "    aor=length*width\n",
    "    return {'area of circle':aoc,'area of rect':aor}"
   ]
  },
  {
   "cell_type": "code",
   "execution_count": 164,
   "id": "ffb58023-0733-46df-bde3-7596cdaf10fe",
   "metadata": {},
   "outputs": [
    {
     "data": {
      "text/plain": [
       "{'area of circle': 25434.000000000004, 'area of rect': 4200}"
      ]
     },
     "execution_count": 164,
     "metadata": {},
     "output_type": "execute_result"
    }
   ],
   "source": [
    "t=area(90,70,60)\n",
    "t"
   ]
  },
  {
   "cell_type": "code",
   "execution_count": 166,
   "id": "06a47611-ed19-4f86-a70e-e16f4d65e9ca",
   "metadata": {},
   "outputs": [
    {
     "data": {
      "text/plain": [
       "dict"
      ]
     },
     "execution_count": 166,
     "metadata": {},
     "output_type": "execute_result"
    }
   ],
   "source": [
    "type(t)"
   ]
  },
  {
   "cell_type": "code",
   "execution_count": 207,
   "id": "ca672536-4996-4971-9f09-9b66bf3f6261",
   "metadata": {},
   "outputs": [
    {
     "data": {
      "text/plain": [
       "'qwert 123456 wertyui'"
      ]
     },
     "execution_count": 207,
     "metadata": {},
     "output_type": "execute_result"
    }
   ],
   "source": [
    "t='qwert 123456 wertyui'\n",
    "t"
   ]
  },
  {
   "cell_type": "code",
   "execution_count": 224,
   "id": "608966bc-9cb0-48d5-9bcc-87be95c8b2a6",
   "metadata": {},
   "outputs": [],
   "source": [
    "def count_num_alpha(x):\n",
    "    c=0\n",
    "    d=0\n",
    "    for i in x:\n",
    "        if i.isalpha():\n",
    "            c+=1\n",
    "        elif i.isnumeric():\n",
    "            d+=1\n",
    "    return {'Number of alphabets':c,'Number of digits':d}"
   ]
  },
  {
   "cell_type": "code",
   "execution_count": 226,
   "id": "99ea4931-6885-4dfb-83e1-d9f1798ef427",
   "metadata": {},
   "outputs": [
    {
     "data": {
      "text/plain": [
       "{'Number of alphabets': 12, 'Number of digits': 6}"
      ]
     },
     "execution_count": 226,
     "metadata": {},
     "output_type": "execute_result"
    }
   ],
   "source": [
    "count_num_alpha(t)"
   ]
  },
  {
   "cell_type": "code",
   "execution_count": null,
   "id": "94189c42-f082-4722-bae4-4737fc109571",
   "metadata": {},
   "outputs": [],
   "source": [
    "x = '12e1234567cvbjk'\n",
    "y = 'qwertyu324567fdgh'\n",
    "def remove_num(x):\n",
    "    for i in x:\n",
    "        if i.isdi"
   ]
  }
 ],
 "metadata": {
  "kernelspec": {
   "display_name": "Python [conda env:base] *",
   "language": "python",
   "name": "conda-base-py"
  },
  "language_info": {
   "codemirror_mode": {
    "name": "ipython",
    "version": 3
   },
   "file_extension": ".py",
   "mimetype": "text/x-python",
   "name": "python",
   "nbconvert_exporter": "python",
   "pygments_lexer": "ipython3",
   "version": "3.12.7"
  }
 },
 "nbformat": 4,
 "nbformat_minor": 5
}
