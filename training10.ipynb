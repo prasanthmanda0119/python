{
 "cells": [
  {
   "cell_type": "code",
   "execution_count": 2,
   "id": "dec0e5bf-9fec-4f4d-821d-76e9ea6d2f7b",
   "metadata": {},
   "outputs": [],
   "source": [
    "import numpy as np"
   ]
  },
  {
   "cell_type": "code",
   "execution_count": 4,
   "id": "7e09bef7-8b26-487b-82a0-9b5a5c7717ac",
   "metadata": {},
   "outputs": [
    {
     "data": {
      "text/plain": [
       "[30, 20, 5, 8, 9]"
      ]
     },
     "execution_count": 4,
     "metadata": {},
     "output_type": "execute_result"
    }
   ],
   "source": [
    "h=[30,20,5,8,9]\n",
    "h"
   ]
  },
  {
   "cell_type": "code",
   "execution_count": 6,
   "id": "b330fc4d-242f-4db3-baa1-938e83eae170",
   "metadata": {},
   "outputs": [],
   "source": [
    "for i in range(len(h)):\n",
    "    h[i] += 7\n",
    "    "
   ]
  },
  {
   "cell_type": "code",
   "execution_count": 10,
   "id": "d18d3dee-840d-4415-aefc-bd103161f72f",
   "metadata": {},
   "outputs": [
    {
     "data": {
      "text/plain": [
       "[37, 27, 12, 15, 16]"
      ]
     },
     "execution_count": 10,
     "metadata": {},
     "output_type": "execute_result"
    }
   ],
   "source": [
    "h"
   ]
  },
  {
   "cell_type": "code",
   "execution_count": 13,
   "id": "7282f27c-955f-48bb-a6e3-ecc78458d3ef",
   "metadata": {},
   "outputs": [],
   "source": [
    "d=[]\n",
    "for i in h:\n",
    "    d.append(i+7)"
   ]
  },
  {
   "cell_type": "code",
   "execution_count": 15,
   "id": "5f122cfb-2cf7-4e6c-9cac-09fafa682dfd",
   "metadata": {},
   "outputs": [
    {
     "data": {
      "text/plain": [
       "[44, 34, 19, 22, 23]"
      ]
     },
     "execution_count": 15,
     "metadata": {},
     "output_type": "execute_result"
    }
   ],
   "source": [
    "d"
   ]
  },
  {
   "cell_type": "code",
   "execution_count": 21,
   "id": "6990b65c-2e15-49d3-b36c-66f89f6159e5",
   "metadata": {},
   "outputs": [
    {
     "data": {
      "text/plain": [
       "(6, 2, 3, 9, 7, 5, 8)"
      ]
     },
     "execution_count": 21,
     "metadata": {},
     "output_type": "execute_result"
    }
   ],
   "source": [
    "s=(6,2,3,9,7,5,8)\n",
    "s"
   ]
  },
  {
   "cell_type": "code",
   "execution_count": 23,
   "id": "ef4c3c33-ce04-4a99-8d8f-abebe42926e2",
   "metadata": {},
   "outputs": [
    {
     "data": {
      "text/plain": [
       "[6, 2, 3, 9, 7, 5, 8]"
      ]
     },
     "execution_count": 23,
     "metadata": {},
     "output_type": "execute_result"
    }
   ],
   "source": [
    "list(s)"
   ]
  },
  {
   "cell_type": "code",
   "execution_count": 55,
   "id": "7106d685-e7e3-4119-8e5b-5ce35aa07f9c",
   "metadata": {},
   "outputs": [],
   "source": [
    "k=[]\n",
    "for i in s:\n",
    "    k.append(i**2)"
   ]
  },
  {
   "cell_type": "code",
   "execution_count": 57,
   "id": "eff55746-5624-4c8c-827d-d1daba3f0a5b",
   "metadata": {},
   "outputs": [
    {
     "data": {
      "text/plain": [
       "[1296, 16, 81, 6561, 2401, 625, 4096]"
      ]
     },
     "execution_count": 57,
     "metadata": {},
     "output_type": "execute_result"
    }
   ],
   "source": [
    "k"
   ]
  },
  {
   "cell_type": "code",
   "execution_count": 35,
   "id": "0d7e4a51-ee17-457d-b52c-e9094710f8d7",
   "metadata": {},
   "outputs": [
    {
     "data": {
      "text/plain": [
       "(36, 4, 9, 81, 49, 25, 64)"
      ]
     },
     "execution_count": 35,
     "metadata": {},
     "output_type": "execute_result"
    }
   ],
   "source": [
    "tuple(k)"
   ]
  },
  {
   "cell_type": "code",
   "execution_count": 49,
   "id": "0846aae8-0e25-4dc7-be16-7f8765ae2927",
   "metadata": {},
   "outputs": [
    {
     "data": {
      "text/plain": [
       "(36, 4, 9, 81, 49, 25, 64)"
      ]
     },
     "execution_count": 49,
     "metadata": {},
     "output_type": "execute_result"
    }
   ],
   "source": [
    "tuple(x**2 for x in s)"
   ]
  },
  {
   "cell_type": "code",
   "execution_count": 53,
   "id": "14c6f85a-fe88-4626-9b3b-3696cf5d9cb4",
   "metadata": {},
   "outputs": [
    {
     "data": {
      "text/plain": [
       "(36, 4, 9, 81, 49, 25, 64)"
      ]
     },
     "execution_count": 53,
     "metadata": {},
     "output_type": "execute_result"
    }
   ],
   "source": [
    "y=list(s)\n",
    "k=[]\n",
    "for i in y:\n",
    "    k.append(i**2)\n",
    "s=tuple(k)\n",
    "s"
   ]
  },
  {
   "cell_type": "code",
   "execution_count": 71,
   "id": "c0f99703-4416-466e-af77-088fdc20e38f",
   "metadata": {},
   "outputs": [
    {
     "data": {
      "text/plain": [
       "[81, 64]"
      ]
     },
     "execution_count": 71,
     "metadata": {},
     "output_type": "execute_result"
    }
   ],
   "source": [
    "l=[]\n",
    "for i in s:\n",
    "    if i>50:\n",
    "        l.append(i)\n",
    "l\n",
    "    "
   ]
  },
  {
   "cell_type": "code",
   "execution_count": 92,
   "id": "e448dd67-db78-4dbb-84c7-a89ce0568ec4",
   "metadata": {},
   "outputs": [],
   "source": [
    "arr=np.array([20,50,30,70,80,40,36,54,23,98])"
   ]
  },
  {
   "cell_type": "code",
   "execution_count": 94,
   "id": "fbaa740e-5857-4609-b3f0-7d562a7035ff",
   "metadata": {},
   "outputs": [
    {
     "data": {
      "text/plain": [
       "array([20, 50, 30, 70, 80, 40, 36, 54, 23, 98])"
      ]
     },
     "execution_count": 94,
     "metadata": {},
     "output_type": "execute_result"
    }
   ],
   "source": [
    "arr"
   ]
  },
  {
   "cell_type": "code",
   "execution_count": 100,
   "id": "cd026b70-a7f9-4cce-a60c-507bf6d6f618",
   "metadata": {},
   "outputs": [
    {
     "data": {
      "text/plain": [
       "array([ 27,  57,  37,  77,  87,  47,  43,  61,  30, 105])"
      ]
     },
     "execution_count": 100,
     "metadata": {},
     "output_type": "execute_result"
    }
   ],
   "source": [
    "#we can directly apply operations on array\n",
    "t=arr+7\n",
    "t"
   ]
  },
  {
   "cell_type": "code",
   "execution_count": 102,
   "id": "d788cad3-c3ea-4a0f-89ef-15d4446d4218",
   "metadata": {},
   "outputs": [
    {
     "data": {
      "text/plain": [
       "array([20, 50, 30, 70, 80, 40, 36, 54, 23, 98])"
      ]
     },
     "execution_count": 102,
     "metadata": {},
     "output_type": "execute_result"
    }
   ],
   "source": [
    "arr"
   ]
  },
  {
   "cell_type": "code",
   "execution_count": 110,
   "id": "ea9bc001-2f25-47f8-b3c0-d02ffcb64ba9",
   "metadata": {},
   "outputs": [
    {
     "data": {
      "text/plain": [
       "array([100, 250, 150, 350, 400, 200, 180, 270, 115, 490])"
      ]
     },
     "execution_count": 110,
     "metadata": {},
     "output_type": "execute_result"
    }
   ],
   "source": [
    "k=arr*5\n",
    "k"
   ]
  },
  {
   "cell_type": "code",
   "execution_count": 112,
   "id": "49459b72-7020-4c0a-9016-51fcc8279225",
   "metadata": {},
   "outputs": [],
   "source": [
    "l=arr%4"
   ]
  },
  {
   "cell_type": "code",
   "execution_count": 114,
   "id": "fbb7717f-2cfd-49b7-8e85-b72b93c6f99a",
   "metadata": {},
   "outputs": [
    {
     "data": {
      "text/plain": [
       "array([0, 2, 2, 2, 0, 0, 0, 2, 3, 2], dtype=int32)"
      ]
     },
     "execution_count": 114,
     "metadata": {},
     "output_type": "execute_result"
    }
   ],
   "source": [
    "l"
   ]
  },
  {
   "cell_type": "code",
   "execution_count": 116,
   "id": "e2ede7b8-2c3e-4bf8-a6e7-dc20cfdfb50b",
   "metadata": {},
   "outputs": [
    {
     "data": {
      "text/plain": [
       "array([False, False, False,  True,  True, False, False,  True, False,\n",
       "        True])"
      ]
     },
     "execution_count": 116,
     "metadata": {},
     "output_type": "execute_result"
    }
   ],
   "source": [
    "arr>50"
   ]
  },
  {
   "cell_type": "code",
   "execution_count": 118,
   "id": "9d38ce38-a70a-465b-8ff2-b6d66b0becb4",
   "metadata": {},
   "outputs": [
    {
     "data": {
      "text/plain": [
       "20"
      ]
     },
     "execution_count": 118,
     "metadata": {},
     "output_type": "execute_result"
    }
   ],
   "source": [
    "arr[0]"
   ]
  },
  {
   "cell_type": "code",
   "execution_count": 120,
   "id": "f44ff78f-967e-4a79-b065-fac40ad90d2b",
   "metadata": {},
   "outputs": [
    {
     "data": {
      "text/plain": [
       "array([80, 40, 36, 54])"
      ]
     },
     "execution_count": 120,
     "metadata": {},
     "output_type": "execute_result"
    }
   ],
   "source": [
    "arr[4:8]"
   ]
  },
  {
   "cell_type": "code",
   "execution_count": 122,
   "id": "541f12f7-fdc3-4fc8-9138-1df2ef6144a0",
   "metadata": {},
   "outputs": [
    {
     "data": {
      "text/plain": [
       "array([70, 40, 54])"
      ]
     },
     "execution_count": 122,
     "metadata": {},
     "output_type": "execute_result"
    }
   ],
   "source": [
    "arr[3:8:2]"
   ]
  },
  {
   "cell_type": "code",
   "execution_count": 128,
   "id": "23368820-91bf-4849-920d-9b470514156a",
   "metadata": {},
   "outputs": [
    {
     "data": {
      "text/plain": [
       "array([70, 80, 40])"
      ]
     },
     "execution_count": 128,
     "metadata": {},
     "output_type": "execute_result"
    }
   ],
   "source": [
    "arr[3:6:1]"
   ]
  },
  {
   "cell_type": "code",
   "execution_count": 154,
   "id": "e04c78af-e66d-44e6-924a-bbc892b11870",
   "metadata": {},
   "outputs": [
    {
     "data": {
      "text/plain": [
       "(array([3, 4, 7, 9], dtype=int64),)"
      ]
     },
     "execution_count": 154,
     "metadata": {},
     "output_type": "execute_result"
    }
   ],
   "source": [
    "#where function is used to index the elements satisfying condition\n",
    "np.where(arr>50)"
   ]
  },
  {
   "cell_type": "code",
   "execution_count": 130,
   "id": "6f89a1d8-109c-44f6-8ceb-ee1836ed6eef",
   "metadata": {},
   "outputs": [
    {
     "data": {
      "text/plain": [
       "array([70, 80, 54, 98])"
      ]
     },
     "execution_count": 130,
     "metadata": {},
     "output_type": "execute_result"
    }
   ],
   "source": [
    "#elements satisfying condition\n",
    "arr[arr>50]"
   ]
  },
  {
   "cell_type": "code",
   "execution_count": 132,
   "id": "74e46f35-7c89-4640-815a-e3e0543eec2a",
   "metadata": {},
   "outputs": [
    {
     "data": {
      "text/plain": [
       "array([False, False, False,  True,  True, False, False, False, False,\n",
       "        True])"
      ]
     },
     "execution_count": 132,
     "metadata": {},
     "output_type": "execute_result"
    }
   ],
   "source": [
    "arr>=70"
   ]
  },
  {
   "cell_type": "code",
   "execution_count": 136,
   "id": "dd4a4239-2b8a-4353-9fae-5030c123b38e",
   "metadata": {},
   "outputs": [
    {
     "data": {
      "text/plain": [
       "array([20, 50, 30, 70, 40, 36, 54, 23])"
      ]
     },
     "execution_count": 136,
     "metadata": {},
     "output_type": "execute_result"
    }
   ],
   "source": [
    "arr[arr<=70]"
   ]
  },
  {
   "cell_type": "code",
   "execution_count": 138,
   "id": "c320dffb-5c54-4181-8bef-d16dd1cfd5fb",
   "metadata": {},
   "outputs": [
    {
     "data": {
      "text/plain": [
       "[36, 4, 9, 81, 49, 25, 64]"
      ]
     },
     "execution_count": 138,
     "metadata": {},
     "output_type": "execute_result"
    }
   ],
   "source": [
    "k=[36,4,9,81,49,25,64]\n",
    "k"
   ]
  },
  {
   "cell_type": "code",
   "execution_count": 152,
   "id": "335f098e-a3bd-4cd8-ba15-0c322ff9bbb1",
   "metadata": {},
   "outputs": [
    {
     "data": {
      "text/plain": [
       "[3, 6]"
      ]
     },
     "execution_count": 152,
     "metadata": {},
     "output_type": "execute_result"
    }
   ],
   "source": [
    "index=[]\n",
    "for i in range(len(k)):\n",
    "    if k[i]>50:\n",
    "        index.append(i)\n",
    "index"
   ]
  },
  {
   "cell_type": "code",
   "execution_count": null,
   "id": "cedd6b0b-7298-4487-bdb2-92c4cbd7aa62",
   "metadata": {},
   "outputs": [],
   "source": []
  },
  {
   "cell_type": "code",
   "execution_count": null,
   "id": "c4df2a7c-a2cf-400b-ab40-523bc9027c9b",
   "metadata": {},
   "outputs": [],
   "source": []
  }
 ],
 "metadata": {
  "kernelspec": {
   "display_name": "Python [conda env:base] *",
   "language": "python",
   "name": "conda-base-py"
  },
  "language_info": {
   "codemirror_mode": {
    "name": "ipython",
    "version": 3
   },
   "file_extension": ".py",
   "mimetype": "text/x-python",
   "name": "python",
   "nbconvert_exporter": "python",
   "pygments_lexer": "ipython3",
   "version": "3.12.7"
  }
 },
 "nbformat": 4,
 "nbformat_minor": 5
}
